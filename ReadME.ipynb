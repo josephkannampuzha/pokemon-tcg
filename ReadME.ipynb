{
 "cells": [
  {
   "cell_type": "code",
   "execution_count": null,
   "id": "96d4bb67-58f9-4229-9c9d-212bee48eb8d",
   "metadata": {},
   "outputs": [],
   "source": [
    "#  Pokémon TCG Web App\n",
    "\n",
    "##  Project Overview\n",
    "\n",
    "**Title:** Pokémon TCG Explorer\n",
    "\n",
    "**Description:**  \n",
    "This web application allows users to search, explore, and visualize data from the Pokémon Trading Card Game. Users can:\n",
    "- Search cards by name and rarity using the Pokémon TCG API\n",
    "- View featured and rare cards from a Supabase database\n",
    "- Analyze deck trends using a chart library\n",
    "- Navigate the site via voice commands\n",
    "\n",
    "**Target Browsers:**  \n",
    "- Google Chrome (Desktop, Android)  \n",
    "- Safari (iOS)  \n",
    "- Microsoft Edge  \n",
    "- Firefox  \n"
   ]
  },
  {
   "cell_type": "code",
   "execution_count": null,
   "id": "0737df51-b742-412d-b957-a7f9b40b551a",
   "metadata": {},
   "outputs": [],
   "source": [
    "## 🛠️ Developer Manual\n",
    "\n",
    "### 🧑‍💻 Project Setup\n",
    "\n",
    "#### 1. Clone the Repository\n",
    "\n",
    "```bash\n",
    "git clone https://github.com/josephkannampuzha/pokemon-tcg.git\n",
    "cd pokemon-tcg\n",
    "npm install\n"
   ]
  },
  {
   "cell_type": "code",
   "execution_count": null,
   "id": "e84bb073-bf41-4dd3-9465-c522578c9cff",
   "metadata": {},
   "outputs": [],
   "source": [
    "\n",
    "### Run the Application\n",
    "\n",
    "#### Local (Live Server):\n",
    "- Open `index.html` using VS Code Live Server\n",
    "\n",
    "#### On Vercel:\n",
    "- Push changes to GitHub\n",
    "- Vercel auto-builds from the repo\n",
    "\n",
    "### Run Tests\n",
    "- No formal test suite\n",
    "- Manual tests include:\n",
    "  - Testing navigation\n",
    "  - Testing API endpoints\n",
    "  - Chart load verification\n",
    "  - Voice command responses\n"
   ]
  },
  {
   "cell_type": "code",
   "execution_count": null,
   "id": "1b7803a7-eef0-4836-afae-770addc235cd",
   "metadata": {},
   "outputs": [],
   "source": [
    "###  API Endpoints\n",
    "\n",
    "#### `/api/featured-cards` (GET)\n",
    "- Pulls latest 6 cards from Supabase\n",
    "- Returns: `[{ name, image_url, rarity }]`\n",
    "\n",
    "#### `/api/log-search` (POST)\n",
    "- Logs search term to Supabase\n",
    "- Body: `{ term: \"pikachu\" }`\n"
   ]
  },
  {
   "cell_type": "code",
   "execution_count": null,
   "id": "4fe6e4c8-37c3-498d-8ab7-d86b7def72db",
   "metadata": {},
   "outputs": [],
   "source": [
    "###  Known Bugs\n",
    "\n",
    "- Chart may fail if no cards are loaded\n",
    "- Supabase fails silently if RLS is re-enabled\n",
    "- Voice recognition may not work on all browsers\n",
    "\n",
    "###  Roadmap\n",
    "\n",
    "- Add user login with Supabase\n",
    "- Add card detail views (modals)\n",
    "- Improve mobile/tablet layout\n"
   ]
  }
 ],
 "metadata": {
  "kernelspec": {
   "display_name": "Python 3 (ipykernel)",
   "language": "python",
   "name": "python3"
  },
  "language_info": {
   "codemirror_mode": {
    "name": "ipython",
    "version": 3
   },
   "file_extension": ".py",
   "mimetype": "text/x-python",
   "name": "python",
   "nbconvert_exporter": "python",
   "pygments_lexer": "ipython3",
   "version": "3.12.5"
  }
 },
 "nbformat": 4,
 "nbformat_minor": 5
}
